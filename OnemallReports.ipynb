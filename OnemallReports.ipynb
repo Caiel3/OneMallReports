{
  "nbformat": 4,
  "nbformat_minor": 0,
  "metadata": {
    "colab": {
      "name": "OnemallReports.ipynb",
      "provenance": [],
      "authorship_tag": "ABX9TyPS9fJ1v3cHdpLYHFNhjyK7",
      "include_colab_link": true
    },
    "kernelspec": {
      "name": "python3",
      "display_name": "Python 3"
    },
    "language_info": {
      "name": "python"
    }
  },
  "cells": [
    {
      "cell_type": "markdown",
      "metadata": {
        "id": "view-in-github",
        "colab_type": "text"
      },
      "source": [
        "<a href=\"https://colab.research.google.com/github/Caiel3/OneMallReports/blob/main/OnemallReports.ipynb\" target=\"_parent\"><img src=\"https://colab.research.google.com/assets/colab-badge.svg\" alt=\"Open In Colab\"/></a>"
      ]
    },
    {
      "cell_type": "code",
      "metadata": {
        "colab": {
          "base_uri": "https://localhost:8080/"
        },
        "id": "NLgl4sHOb-b2",
        "outputId": "0a1f53d2-b554-4d69-82bc-f801edaed66e"
      },
      "source": [
        "import requests\n",
        "from requests.models import HTTPBasicAuth\n",
        "import json\n",
        "import pandas as pd\n",
        "\n",
        "reports_url = 'http://api.messaging-service.com/sms/1/reports?limit=50'\n",
        "User = 'CRYSTAL.2020'\n",
        "password='Crystal.2020'\n",
        "\n",
        "reports = requests.get(reports_url,auth=HTTPBasicAuth(username=User,password=password))\n",
        "print(reports.content)\n",
        "\n",
        "x = reports.json()\n",
        "df = pd.read_json(json.dumps(x['results']))\n"
      ],
      "execution_count": null,
      "outputs": [
        {
          "output_type": "stream",
          "name": "stdout",
          "text": [
            "b'{\"results\":[]}'\n"
          ]
        }
      ]
    },
    {
      "cell_type": "code",
      "metadata": {
        "colab": {
          "base_uri": "https://localhost:8080/"
        },
        "id": "G3PQCjukehx1",
        "outputId": "2ae68c4d-79a5-4982-cd80-a0025abe5288"
      },
      "source": [
        "table =  pd.read_json(json.dumps(x['results']))\n",
        "print(table)"
      ],
      "execution_count": null,
      "outputs": [
        {
          "output_type": "stream",
          "name": "stdout",
          "text": [
            "       messageId  ...                                              error\n",
            "0   3.340985e+19  ...  {'groupId': 0, 'groupName': 'OK', 'id': 0, 'na...\n",
            "1   3.340986e+19  ...  {'groupId': 0, 'groupName': 'OK', 'id': 0, 'na...\n",
            "2   3.340920e+19  ...  {'groupId': 0, 'groupName': 'OK', 'id': 0, 'na...\n",
            "3   3.341019e+19  ...  {'groupId': 0, 'groupName': 'OK', 'id': 0, 'na...\n",
            "4   3.341020e+19  ...  {'groupId': 0, 'groupName': 'OK', 'id': 0, 'na...\n",
            "5   3.340919e+19  ...  {'groupId': 0, 'groupName': 'OK', 'id': 0, 'na...\n",
            "6   3.340985e+19  ...  {'groupId': 0, 'groupName': 'OK', 'id': 0, 'na...\n",
            "7   3.341019e+19  ...  {'groupId': 0, 'groupName': 'OK', 'id': 0, 'na...\n",
            "8   3.340910e+19  ...  {'groupId': 0, 'groupName': 'OK', 'id': 0, 'na...\n",
            "9   3.341020e+19  ...  {'groupId': 0, 'groupName': 'OK', 'id': 0, 'na...\n",
            "10  3.340986e+19  ...  {'groupId': 0, 'groupName': 'OK', 'id': 0, 'na...\n",
            "11  3.341020e+19  ...  {'groupId': 0, 'groupName': 'OK', 'id': 0, 'na...\n",
            "12  3.340985e+19  ...  {'groupId': 0, 'groupName': 'OK', 'id': 0, 'na...\n",
            "13  3.340910e+19  ...  {'groupId': 0, 'groupName': 'OK', 'id': 0, 'na...\n",
            "14  3.340919e+19  ...  {'groupId': 0, 'groupName': 'OK', 'id': 0, 'na...\n",
            "15  3.340986e+19  ...  {'groupId': 0, 'groupName': 'OK', 'id': 0, 'na...\n",
            "16  3.340910e+19  ...  {'groupId': 0, 'groupName': 'OK', 'id': 0, 'na...\n",
            "17  3.341020e+19  ...  {'groupId': 0, 'groupName': 'OK', 'id': 0, 'na...\n",
            "18  3.340920e+19  ...  {'groupId': 0, 'groupName': 'OK', 'id': 0, 'na...\n",
            "19  3.340986e+19  ...  {'groupId': 0, 'groupName': 'OK', 'id': 0, 'na...\n",
            "20  3.341306e+19  ...  {'groupId': 0, 'groupName': 'OK', 'id': 0, 'na...\n",
            "21  3.341452e+19  ...  {'groupId': 0, 'groupName': 'OK', 'id': 0, 'na...\n",
            "22  3.341453e+19  ...  {'groupId': 0, 'groupName': 'OK', 'id': 0, 'na...\n",
            "23  3.341453e+19  ...  {'groupId': 0, 'groupName': 'OK', 'id': 0, 'na...\n",
            "24  3.341453e+19  ...  {'groupId': 0, 'groupName': 'OK', 'id': 0, 'na...\n",
            "25  3.341453e+19  ...  {'groupId': 0, 'groupName': 'OK', 'id': 0, 'na...\n",
            "26  3.341453e+19  ...  {'groupId': 2, 'groupName': 'USER_ERRORS', 'id...\n",
            "27  3.341453e+19  ...  {'groupId': 0, 'groupName': 'OK', 'id': 0, 'na...\n",
            "28  3.341453e+19  ...  {'groupId': 0, 'groupName': 'OK', 'id': 0, 'na...\n",
            "29  3.341453e+19  ...  {'groupId': 0, 'groupName': 'OK', 'id': 0, 'na...\n",
            "30  3.341453e+19  ...  {'groupId': 0, 'groupName': 'OK', 'id': 0, 'na...\n",
            "31  3.341453e+19  ...  {'groupId': 0, 'groupName': 'OK', 'id': 0, 'na...\n",
            "32  3.341453e+19  ...  {'groupId': 0, 'groupName': 'OK', 'id': 0, 'na...\n",
            "33  3.341453e+19  ...  {'groupId': 0, 'groupName': 'OK', 'id': 0, 'na...\n",
            "34  3.341453e+19  ...  {'groupId': 0, 'groupName': 'OK', 'id': 0, 'na...\n",
            "35  3.341453e+19  ...  {'groupId': 0, 'groupName': 'OK', 'id': 0, 'na...\n",
            "36  3.341453e+19  ...  {'groupId': 0, 'groupName': 'OK', 'id': 0, 'na...\n",
            "37  3.341453e+19  ...  {'groupId': 0, 'groupName': 'OK', 'id': 0, 'na...\n",
            "38  3.341453e+19  ...  {'groupId': 0, 'groupName': 'OK', 'id': 0, 'na...\n",
            "39  3.341453e+19  ...  {'groupId': 0, 'groupName': 'OK', 'id': 0, 'na...\n",
            "40  3.341453e+19  ...  {'groupId': 0, 'groupName': 'OK', 'id': 0, 'na...\n",
            "41  3.341453e+19  ...  {'groupId': 0, 'groupName': 'OK', 'id': 0, 'na...\n",
            "42  3.341453e+19  ...  {'groupId': 0, 'groupName': 'OK', 'id': 0, 'na...\n",
            "43  3.341453e+19  ...  {'groupId': 0, 'groupName': 'OK', 'id': 0, 'na...\n",
            "44  3.341453e+19  ...  {'groupId': 0, 'groupName': 'OK', 'id': 0, 'na...\n",
            "45  3.341453e+19  ...  {'groupId': 0, 'groupName': 'OK', 'id': 0, 'na...\n",
            "46  3.341453e+19  ...  {'groupId': 0, 'groupName': 'OK', 'id': 0, 'na...\n",
            "47  3.341453e+19  ...  {'groupId': 0, 'groupName': 'OK', 'id': 0, 'na...\n",
            "48  3.341645e+19  ...  {'groupId': 0, 'groupName': 'OK', 'id': 0, 'na...\n",
            "49  3.341669e+19  ...  {'groupId': 0, 'groupName': 'OK', 'id': 0, 'na...\n",
            "\n",
            "[50 rows x 10 columns]\n"
          ]
        }
      ]
    },
    {
      "cell_type": "code",
      "metadata": {
        "id": "6qgE53KChp-T"
      },
      "source": [
        "eschema = [l for l in table]\n",
        "\n",
        "sw = 1\n",
        "messageArray = []\n",
        "while sw==1:\n",
        "  reports = requests.get(reports_url,auth=HTTPBasicAuth(username=User,password=password))\n",
        "  x = reports.json()\n",
        "  df = pd.read_json(json.dumps(x['results']))\n",
        "  if len(df):    \n",
        "    messageArray.append(df)\n",
        "  else:\n",
        "    sw=0\n"
      ],
      "execution_count": null,
      "outputs": []
    },
    {
      "cell_type": "code",
      "metadata": {
        "colab": {
          "base_uri": "https://localhost:8080/"
        },
        "id": "jbUdF2IYr4Xg",
        "outputId": "52fb6cdd-cc24-4c55-eebd-3efc43c12adf"
      },
      "source": [
        "print(messageArray[2])"
      ],
      "execution_count": null,
      "outputs": [
        {
          "output_type": "stream",
          "name": "stdout",
          "text": [
            "       messageId  ...                                              error\n",
            "0   3.341883e+19  ...  {'groupId': 0, 'groupName': 'OK', 'id': 0, 'na...\n",
            "1   3.341785e+19  ...  {'groupId': 0, 'groupName': 'OK', 'id': 0, 'na...\n",
            "2   3.341882e+19  ...  {'groupId': 0, 'groupName': 'OK', 'id': 0, 'na...\n",
            "3   3.341883e+19  ...  {'groupId': 0, 'groupName': 'OK', 'id': 0, 'na...\n",
            "4   3.341785e+19  ...  {'groupId': 0, 'groupName': 'OK', 'id': 0, 'na...\n",
            "5   3.341847e+19  ...  {'groupId': 0, 'groupName': 'OK', 'id': 0, 'na...\n",
            "6   3.341883e+19  ...  {'groupId': 0, 'groupName': 'OK', 'id': 0, 'na...\n",
            "7   3.341846e+19  ...  {'groupId': 0, 'groupName': 'OK', 'id': 0, 'na...\n",
            "8   3.342098e+19  ...  {'groupId': 0, 'groupName': 'OK', 'id': 0, 'na...\n",
            "9   3.341785e+19  ...  {'groupId': 0, 'groupName': 'OK', 'id': 0, 'na...\n",
            "10  3.341883e+19  ...  {'groupId': 0, 'groupName': 'OK', 'id': 0, 'na...\n",
            "11  3.341847e+19  ...  {'groupId': 0, 'groupName': 'OK', 'id': 0, 'na...\n",
            "12  3.341846e+19  ...  {'groupId': 0, 'groupName': 'OK', 'id': 0, 'na...\n",
            "13  3.341846e+19  ...  {'groupId': 0, 'groupName': 'OK', 'id': 0, 'na...\n",
            "14  3.341785e+19  ...  {'groupId': 0, 'groupName': 'OK', 'id': 0, 'na...\n",
            "15  3.341785e+19  ...  {'groupId': 0, 'groupName': 'OK', 'id': 0, 'na...\n",
            "16  3.341785e+19  ...  {'groupId': 0, 'groupName': 'OK', 'id': 0, 'na...\n",
            "17  3.341847e+19  ...  {'groupId': 0, 'groupName': 'OK', 'id': 0, 'na...\n",
            "18  3.341846e+19  ...  {'groupId': 0, 'groupName': 'OK', 'id': 0, 'na...\n",
            "19  3.341846e+19  ...  {'groupId': 0, 'groupName': 'OK', 'id': 0, 'na...\n",
            "20  3.341883e+19  ...  {'groupId': 0, 'groupName': 'OK', 'id': 0, 'na...\n",
            "21  3.341883e+19  ...  {'groupId': 0, 'groupName': 'OK', 'id': 0, 'na...\n",
            "22  3.341847e+19  ...  {'groupId': 0, 'groupName': 'OK', 'id': 0, 'na...\n",
            "23  3.341847e+19  ...  {'groupId': 0, 'groupName': 'OK', 'id': 0, 'na...\n",
            "24  3.341846e+19  ...  {'groupId': 0, 'groupName': 'OK', 'id': 0, 'na...\n",
            "25  3.341847e+19  ...  {'groupId': 0, 'groupName': 'OK', 'id': 0, 'na...\n",
            "26  3.341846e+19  ...  {'groupId': 0, 'groupName': 'OK', 'id': 0, 'na...\n",
            "27  3.341846e+19  ...  {'groupId': 0, 'groupName': 'OK', 'id': 0, 'na...\n",
            "28  3.341785e+19  ...  {'groupId': 0, 'groupName': 'OK', 'id': 0, 'na...\n",
            "29  3.341847e+19  ...  {'groupId': 0, 'groupName': 'OK', 'id': 0, 'na...\n",
            "30  3.341846e+19  ...  {'groupId': 0, 'groupName': 'OK', 'id': 0, 'na...\n",
            "31  3.341883e+19  ...  {'groupId': 0, 'groupName': 'OK', 'id': 0, 'na...\n",
            "32  3.341882e+19  ...  {'groupId': 0, 'groupName': 'OK', 'id': 0, 'na...\n",
            "33  3.341846e+19  ...  {'groupId': 0, 'groupName': 'OK', 'id': 0, 'na...\n",
            "34  3.341785e+19  ...  {'groupId': 0, 'groupName': 'OK', 'id': 0, 'na...\n",
            "35  3.341785e+19  ...  {'groupId': 0, 'groupName': 'OK', 'id': 0, 'na...\n",
            "36  3.341883e+19  ...  {'groupId': 0, 'groupName': 'OK', 'id': 0, 'na...\n",
            "37  3.341846e+19  ...  {'groupId': 0, 'groupName': 'OK', 'id': 0, 'na...\n",
            "38  3.341847e+19  ...  {'groupId': 0, 'groupName': 'OK', 'id': 0, 'na...\n",
            "39  3.341785e+19  ...  {'groupId': 0, 'groupName': 'OK', 'id': 0, 'na...\n",
            "40  3.341785e+19  ...  {'groupId': 0, 'groupName': 'OK', 'id': 0, 'na...\n",
            "41  3.341847e+19  ...  {'groupId': 0, 'groupName': 'OK', 'id': 0, 'na...\n",
            "42  3.341846e+19  ...  {'groupId': 0, 'groupName': 'OK', 'id': 0, 'na...\n",
            "43  3.341883e+19  ...  {'groupId': 0, 'groupName': 'OK', 'id': 0, 'na...\n",
            "44  3.341846e+19  ...  {'groupId': 0, 'groupName': 'OK', 'id': 0, 'na...\n",
            "45  3.341847e+19  ...  {'groupId': 0, 'groupName': 'OK', 'id': 0, 'na...\n",
            "46  3.341785e+19  ...  {'groupId': 0, 'groupName': 'OK', 'id': 0, 'na...\n",
            "47  3.341847e+19  ...  {'groupId': 0, 'groupName': 'OK', 'id': 0, 'na...\n",
            "48  3.341846e+19  ...  {'groupId': 0, 'groupName': 'OK', 'id': 0, 'na...\n",
            "49  3.341785e+19  ...  {'groupId': 0, 'groupName': 'OK', 'id': 0, 'na...\n",
            "\n",
            "[50 rows x 10 columns]\n"
          ]
        }
      ]
    }
  ]
}